{
 "cells": [
  {
   "cell_type": "markdown",
   "metadata": {},
   "source": [
    "# **Calculus Review**\n",
    "\n",
    "---\n",
    "\n",
    "### **Introduction**\n",
    "This notebook goes over the fundamental concepts in differential and integral Calculus.\n",
    "\n",
    "---\n",
    "\n",
    "### **Author**\n",
    "**Junichi Koganemaru**  \n",
    "\n",
    "---\n",
    "\n",
    "### **References**\n",
    "1. Stewart, James. Calculus: Early Transcendentals. 8th ed.\n",
    "\n",
    "---\n",
    "\n",
    "### **Last Updated**\n",
    "**January 12, 2025**"
   ]
  },
  {
   "cell_type": "markdown",
   "metadata": {},
   "source": [
    "## Functions \n",
    "\n",
    "### Domains and codomains \n",
    "\n",
    "A function $f: X \\to Y$ between two sets $X$ and $Y$ is a rule that assigns to each element $x \\in X$ a unique element $y \\in  Y$, in which case we write $f(x) = y$. The set $X$ is called the **domain** of $f$ and the set $Y$ is called the **codomain** of $f$. The set of all possible outputs of $f$ is called the **range** of $f$, denoted by $\\text{range} f$.\n",
    "  \n",
    "Given an algebraic expression, we can define a function using this expression after specifying a domain and codomain. \n",
    "\n",
    "> **Example:** For example, the function $f: [0,2] \\to \\mathbb{R} $ defined via $f(x) = x^2$ is a well-defined function with domain $X = [0,2]$ and codomain $Y = \\mathbb{R}$. The range of $f$ is the interval $[0,4]$. \n",
    "\n",
    "> **Remark**: In this class we always assume that the domain $X$ of a function is a subset of $\\mathbb{R}$ and codomain $Y = \\mathbb{R}$ unless otherwise specified.\n",
    "\n",
    "### Maximal or Natural domains \n",
    "\n",
    "The maximal domain $D$ (sometimes called the natural domain) of a function $f: X \\to Y $ is the largest set $D \\subset \\mathbb{R}$ for which a given function is well-defined.  \n",
    "\n",
    "### Equality of two functions over a set \n",
    "\n",
    "Two functions $f,g : X \\to Y$ are equal if they have the same domain/codomain and the same value at each point in the domain. In this case we write $f = g$ (which is short for $f(x) = g(x)$ for all $x \\in X$). \n",
    "\n",
    "> **Remark:** If one writes $f = g$ and the domain of $f,g$ are not explicitly stated, then the domain is assumed to be the largest subset of $\\mathbb{R}$ for which the equality holds. \n",
    "\n",
    "> **Remark:**  In many references, the domain and codomain of functions are often omitted, and functions are defined via algebraic expressions. In this case, the domain is typically assumed to be the largest set for which the expression is well-defined (i.e. the maximal domain). This is also the standard convention for writing equality of functions and for equalities involving indefinite integrals. While this is convenient, it can sometimes lead to confusion if the domain and the dependence on variables is not explicitly stated.\n",
    "\n",
    "> **Remark:**  For example, if one writes $f = 0$, is $f$ a number of a function? If one writes $xy' = y$, what is $x$? Is $x$ an independent variable or is it a constant? Is $y$ a function of $x$ or another variable? What is the domain of $y$? In complicated equations where there are physical constants and functions mixed together, it becomes even more important to be clear about what is what.\n",
    "\n",
    "Therefore it is a good habit to always specify the domain of function (and domain for equality of functions), and to be clear about what is a function and what is a number. "
   ]
  },
  {
   "cell_type": "markdown",
   "metadata": {},
   "source": [
    "## The Exponential Function\n",
    "\n",
    "Recall the exponential function $f: \\R \\to \\R$ is defined via a convergent power series\n",
    "  $$\n",
    "    f(x) = 1 + x + \\frac{x^2}{2!} + \\frac{x^3}{3!} + \\cdots.\n",
    "  $$\n",
    "\n",
    "This function is usually denoted by $e^x$ and is strictly positive for all $x \\in \\R$.\n",
    "\n",
    " The exponential function satisfies two important properties that we'll use often. One, \n",
    "  $$ %\\label{eq:}\n",
    "    e^a e^b = e^{a+b}\n",
    "  $$\n",
    "  for any two real numbers $a,b$. Two,\n",
    "  $$ %\\label{eq:}\n",
    "   e^{\\ln x} = x, x > 0 \\; \\text{and} \\; \\ln e^x = x \\; \\text{for all} \\; x \\in \\R.\n",
    "  $$\n",
    "  In other words, the exponential and logarithm functions are inverses of each other. An immediate consequence of these two properties is that \n",
    "  $$ %\\label{eq:}\n",
    "    \\ln a + \\ln b = \\ln (ab), \\; \\text{for all} \\; a,b > 0.\n",
    "  $$"
   ]
  },
  {
   "cell_type": "markdown",
   "metadata": {},
   "source": [
    "## Absolute value\n",
    "Recall the absolute value function $|\\cdot|: \\R \\to \\R$ is defined via \n",
    "  $$ %\\label{eq:}\n",
    "    |x|:= \\begin{cases}\n",
    "      x, &x \\ge 0 \\\\\n",
    "      -x, &x < 0.\n",
    "    \\end{cases}\n",
    "  $$\n",
    "  This function is non-differentiable at the origin. For all $x \\neq 0$, the derivative of this function is \n",
    "  $$ %\\label{eq:}\n",
    "    \\frac{d}{dx} |x|= \\frac{x}{|x|} = \\begin{cases}\n",
    "      1, &x > 0 \\\\\n",
    "      -1, &x < 0.\n",
    "    \\end{cases}\n",
    "  $$\n",
    "  By the chain rule, if $f: I \\to \\R$ is a differentiable function, then \n",
    "  $$ %\\label{eq:}\n",
    "  \\frac{d}{dx} |f| = \\frac{f}{|f|} f' $$\n",
    "  whenever $f \\neq 0$. "
   ]
  },
  {
   "cell_type": "markdown",
   "metadata": {},
   "source": [
    "## Differentiation\n",
    "\n",
    "Recall the power rule, chain rule, product rule, and quotient rules. \n",
    "  \n",
    " **Proposition (Power rule)** \n",
    " $$\n",
    "     \\frac{d}{dx}[x^\\alpha] = \\alpha x^{\\alpha - 1}, \\; \\text{for all} \\; \\alpha \\in \\R.\n",
    "  $$\n",
    "  Note that here we are asserting the equality of two functions without specifying the domain of $x$, therefore we adopt the standard convention that the domain here is the largest subset of $\\R$ for which the equality holds. If $\\alpha < 1$, we would need to exclude $x = 0$ from the domain as the RHS is undefined at $x = 0$. \n",
    " \n",
    "  \n",
    "  \n",
    " **Propisition (Chain rule)**\n",
    "  Given the composition $f \\circ g := f( g(\\cdot) )$ of two differentiable functions $f,g: I \\to \\R $, its derivative is given by \n",
    "  $$\n",
    "  (f \\circ g)' = f' ( g ) \\cdot g'\n",
    "  $$\n",
    "\n",
    " **Propisition (Product rule)**\n",
    "  The derivative of the product of two differentiable functions $f,g: I \\to \\R$ is given by\n",
    "  $$\n",
    "  (fg)' = f'g + fg'.\n",
    "  $$\n",
    "\n",
    "  **Propisition (Quotient rule)**\n",
    "  The derivative of the quotient of two differentiable functions $f,g: I \\to \\R$ is given by \n",
    "  $$\n",
    "  \\left( \\frac{f}{g} \\right)' = \\frac{gf' - fg'}{g^2}, \\; \\text{whenever} \\; g \\neq 0.\n",
    "  $$"
   ]
  },
  {
   "cell_type": "markdown",
   "metadata": {},
   "source": [
    "## Critical points \n",
    "\n",
    "* Recall that the critical points of a continuous function $f$ are points in the domain of $f$ for which it is either not differentiable or $f' = 0$. If $f$ is differentiable and if the sign of the derivative changes (from positive to negative or vice versa) around a point where $f' =0$, then the point corresponds to a local maximum or local minimum.\n",
    "*  Recall that an inflection point of a smooth function is where $f'' = 0$ and the second derivative $f''$ changes sign (from positive to negative or vice versa).\n",
    "\n",
    ">  **Example:** Consider the function $f: \\R \\to \\R$ defined via $f(x) = x^3$. Notice that $x= 0$ is a critical point, as $f'(0) = 0$, but $x=0$ does not correspond to a local max nor a local min. \n",
    "\n",
    ">  **Example:** Consider the function $f: \\R \\to \\R$ defined via $f(x) = x^4$. Notice that $f''(x) = 12 x^2$, so $f''(0) = 0$, but $x =0 $ does not correspond to an inflection point. The function $f$ is concave up to the left and to the right of $x= 0$. \n"
   ]
  },
  {
   "cell_type": "markdown",
   "metadata": {},
   "source": [
    "## Indefinite integrals \n",
    "\n",
    "> **Example:** Consider the integral given by $$\\int \\frac{x^2}{1+x^3} \\; dx.$$ Notice that the derivative of the denominator $1+x^3$ is $3x^2$, which is a constant multiple of the numerator. Therefore by using the variable substitution $u = 1+x^3$, we have that $$\\int \\frac{x^2}{1+x^3} \\; dx = \\frac{1}{3} \\int \\frac{1}{u} \\; du =  \\frac{1}{3} \\ln |1+ x^3|+ C.$$\n",
    "\n",
    "> **Example:**  Consider the integral given by $$\\int \\sin^2(x) \\cos(x) \\; dx$$. Notice that $\\cos$ is the derivative of $\\sin$, thus by using the variable substitution $u = \\sin(x)$, we find that $$\\int \\sin^2(x) \\cos(x) \\; dx = \\int u^2 \\; du = \\frac{u^3}{3} + C = \\frac{\\sin^3(x)}{3} + C.$$"
   ]
  },
  {
   "cell_type": "markdown",
   "metadata": {},
   "source": [
    "## Definite integrals\n",
    "\n",
    "> **Example** Consider the integral given by $$\\int_{0}^2 x^2 e^{x^3} \\; dx.$$ Notice that the derivative of the exponent $x^3$ is $3x^2$, which is constant multiple of $x^2$. Therefore by using the variable substitution $u = x^3$, we find that $$\\int_{0}^2 x^2 e^{x^3} \\; dx = \\frac{1}{3} \\int_0^8 e^u \\; du = \\frac{1}{3}  e^u \\bigg\\rvert_{u=0}^{u=8} = \\frac{1}{3} \\left( e^8 - 1\\right).$$"
   ]
  },
  {
   "cell_type": "markdown",
   "metadata": {},
   "source": [
    "## Integration by parts (important!)\n",
    "\n",
    "Recall the integration by parts formula:\n",
    "$$\n",
    "\\int u \\; dv = uv - \\int v \\; du.\n",
    "$$\n",
    "For definite integrals, the integration by parts formula reads:\n",
    "$$\n",
    "\\int_a^b u \\; dv = uv \\bigg\\rvert_{a}^b- \\int_a^b v \\; du.\n",
    "$$\n",
    "\n",
    "> **Example** Consider the indefinite integral $$\\int \\ln x \\; dx.$$ Using $u = \\ln x, dv = dx$, we find that $$\\int \\ln x \\; dx = x \\ln x - x + C.$$\n",
    "\n",
    "> **Example**\n",
    "Consider the integral $$\\int_0^1 x e^{x} \\; dx.$$ Using the integration by parts formula, with $u = x, dv = e^x \\; dx$, we find that $$\\int_0^1 x e^{x} \\; dx = x e^x \\bigg\\rvert_{x=0}^{x=1} - \\int_0^1 e^x \\; dx = e^1 - ( e^1 - 1) = 1.$$\n"
   ]
  },
  {
   "cell_type": "markdown",
   "metadata": {},
   "source": [
    "## Partial fraction decomposition\n",
    "\n",
    "> **Example** Consider the integral given by $$\\int \\frac{1}{1-x^2} \\; dx $$ Notice that one can write $$ \\frac{1}{1-x^2} = \\frac{1}{(1-x)(1+x)} = \\frac{A}{1+x} + \\frac{B}{1-x}, x \\neq \\pm 1 $$ where $A,B$ satisfy $$ 1 = A(1-x) + B(1+x) = (B-A)x + (B+A) \\implies \\begin{cases} B+A &= 1 \\\\  B-A &= 0 \\end{cases}. $$ Here we find that $A = B = \\frac{1}{2}$. Thus $$ \\int \\frac{1}{1-x^2} \\; dx = \\frac{1}{2} \\left( \\int \\frac{1}{1-x} \\; dx + \\int \\frac{1}{1+x} \\; dx \\right)  = \\frac{1}{2}  \\left(  - \\ln |1-x|  + \\ln |1+x|\\right) + C. $$\n"
   ]
  },
  {
   "cell_type": "markdown",
   "metadata": {},
   "source": [
    "## Partial derivatives \n",
    "\n",
    " Given a function $f: \\R \\times \\R \\to \\R$ of two variables, we define the partial derivative of $f$ with respect to the first variable at a point $(a,b) \\in \\R^2$ as \n",
    "  $$\n",
    "    \\frac{\\partial f}{\\partial x}(a,b) = \\lim_{h \\to 0} \\frac{f(a+h,b) - f(a,b)}{h}\n",
    "  $$\n",
    "  and the partial derivative of $f$ with respect to the second variable $y$ at a point $(a,b)$ as\n",
    "  $$\n",
    "    \\frac{\\partial f}{\\partial y}(a,b) = \\lim_{h \\to 0} \\frac{f(a,b+h) - f(a,b)}{h},\n",
    "  $$\n",
    "  if these limits exist.\n",
    "\n",
    "  This definition can be extended to functions of more than two variables, i.e. for functions $f: \\R^N \\to \\R$. In this course we typically only work with functions of at most 3 variables, i.e. when $N=1,2,3$. \n",
    "\n",
    "  > **Remark on notation:** Note that we are adopting a slight abuse of notation here, as there is no reason to exclusively use the variables $x$ and $y$ (after all, these are dummy variables and can be replaced with any symbol of your choice), however it is standard convention to write $f(x,y)$ for a function of two variables, as a result it is standard to write $\\frac{\\partial f}{\\partial x}$ and $\\frac{\\partial f}{\\partial y}$ for the partial derivatives of $f$ with respect to the first and second variables.\n",
    "\n",
    "###  Computing partial derivatives\n",
    "To compute the partial derivative of a function $f: \\R^2 \\to \\R$ with respect to one of its variables, we treat the other variable as a constant.\n",
    "> **Example:** For example, consider the function $f: \\R^2 \\to \\R$ defined via $f(x,y) = x^2 y + \\sin(x)$. Then $$\\frac{\\partial f}{\\partial x}(x,y) = 2xy + \\cos(x) \\; \\text{and} \\; \\frac{\\partial f}{\\partial y}(x,y) = x^2.$$\n"
   ]
  },
  {
   "cell_type": "markdown",
   "metadata": {},
   "source": [
    "## Integrals involving inverse trigonometric functions\n",
    "\n",
    "Recall that \n",
    "- $$\\int \\frac{1}{1+x^2} \\; dx = \\tan^{-1}(x) + C$$\n",
    "- $$\\int \\frac{1}{\\sqrt{1-x^2}} \\; dx = \\sin^{-1}(x) + C$$\n",
    "- $$\\int \\frac{-1}{\\sqrt{1-x^2}} \\; dx = \\cos^{-1}(x) + C$$\n",
    "\n",
    "> **Example:** Consider the integral $$\\int \\frac{1}{x^2 + 16} \\; dx.$$ We may write this as $$\\int \\frac{1}{x^2 + 16} \\; dx = \\frac{1}{16} \\int \\frac{1}{(\\frac{x}{4})^2 + 1 } \\; dx,$$ and by using the variable substitution $u = \\frac{x}{4}$, $du = \\frac{1}{4}dx$ we find that $$\\int \\frac{1}{x^2 + 16} \\; dx  = \\frac{4}{16} \\int \\frac{1}{u^2 + 1} \\; du = \\frac{1}{4} \\tan^{-1}(u) + C =  \\frac{1}{4} \\tan^{-1}\\left( \\frac{x}{4} \\right) + C.$$\n",
    "\n"
   ]
  }
 ],
 "metadata": {
  "language_info": {
   "name": "python"
  }
 },
 "nbformat": 4,
 "nbformat_minor": 2
}
