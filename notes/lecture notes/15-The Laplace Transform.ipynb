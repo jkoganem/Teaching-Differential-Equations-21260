{
 "cells": [
  {
   "cell_type": "markdown",
   "metadata": {},
   "source": [
    "# **15-The Laplace Transform**\n",
    "\n",
    "---\n",
    "\n",
    "### **Introduction**\n",
    "\n",
    "This notebook goes over the some notions related to boundary value problems.\n",
    "\n",
    "---\n",
    "\n",
    "### **Author**\n",
    "**Junichi Koganemaru**  \n",
    "\n",
    "---\n",
    "\n",
    "### **Last Updated**\n",
    "**February 4, 2025**"
   ]
  },
  {
   "cell_type": "markdown",
   "metadata": {},
   "source": [
    "## The Laplace transform\n",
    "\n",
    "**Definition**\n",
    "> We define the *Laplace transform* of a function $ f: [0,\\infty) \\to \\mathbb{R} $ to be \n",
    "> $$\n",
    "> \\mathcal{L}\\{f\\} (s) := \\int_0^\\infty e^{-st} f(t) \\; dt\n",
    "> $$\n",
    "> for all values $ s \\in \\mathbb{R} $ for which the improper integral converges.\n",
    "\n",
    "Before we proceed we make the following remarks.\n",
    "\n",
    "**Remark:** \n",
    "\n",
    "1. Here $ \\mathcal{L}\\{ f \\}(s) $ is a function of $ s $: the Laplace transform takes in a function $ f $ as an input and gives back a function of $ s $, $ F(s) := \\mathcal{L}\\{f \\} (s) $, where $ s $ is real-valued.\n",
    "\n",
    "2. We often adopt the following abuse of notation: one, we sometimes omit the $ s $ and simply write $ \\mathcal{L} \\{f\\} $ instead. Two, we also sometimes write $ \\mathcal{L} \\{f(t)\\} $ even though it is more appropriate to write $ \\mathcal{L} \\{f(\\cdot)\\} $.\n",
    "\n",
    "3. The integral appearing in the definition of the Laplace transform is an improper integral:\n",
    "$$\n",
    "\\int_0^\\infty e^{-st} f(t) \\; dt = \\lim\\limits_{\\gamma \\to \\infty} \\int_0^\\gamma e^{-st} f(t) \\; dt.\n",
    "$$\n",
    "The improper integral may not be well-defined for a particular value of $ s $ and $ f $ (i.e. the integral may not converge). In general, the Laplace transform is only well-defined for certain values of $ s $; in the section to follow we give sufficient conditions to guarantee the existence of the Laplace transform.\n",
    "\n",
    "4. The main utility of the Laplace transform for us is that it allows us to solve inhomogeneous linear equations where the forcing function on the right-hand side is only piecewise continuous or sometimes not even a classical function. The idea is as follows: given an ODE of the form $ Lu = f $, where $ L $ is some differential operator, one can transform the original ODE of the unknown function $ u $ to an algebraic equation $ \\mathcal{L} \\{Lu\\} = \\mathcal{L}\\{f\\} $ in the $ s $-domain for the Laplace transform $ U = \\mathcal{L}\\{u\\} $ by using the Laplace transform. We'll see that this equation is generally easier to solve than the original ODE since it is an algebraic equation. Once we obtain a solution $ U $ in the $ s $-domain, we can obtain a solution $ u $ to the original ODE by \"undoing\" $ \\mathcal{L} $, i.e. by taking the inverse Laplace transform $ \\mathcal{L}^{-1} $. This idea is summarized in the following diagram.\n"
   ]
  }
 ],
 "metadata": {
  "language_info": {
   "name": "python"
  }
 },
 "nbformat": 4,
 "nbformat_minor": 2
}
