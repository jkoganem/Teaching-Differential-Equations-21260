{
 "cells": [
  {
   "cell_type": "markdown",
   "metadata": {},
   "source": [
    "# **Autonomous Equations, Phase Portraits**\n",
    "\n",
    "---\n",
    "\n",
    "### **Introduction**\n",
    "This notebook goes over properties of solutions to autonomous differential equations and how to sketch one-dimensional phase portraits. \n",
    "\n",
    "---\n",
    "\n",
    "### **Author**\n",
    "**Junichi Koganemaru**  \n",
    "\n",
    "---\n",
    "\n",
    "### **Last Updated**\n",
    "**January 26, 2025**"
   ]
  },
  {
   "cell_type": "markdown",
   "metadata": {},
   "source": [
    "## Autonomous equations\n",
    "\n",
    "\n",
    "A first order differential equation is said to be **autonomous** if it can be written in the form\n",
    "$$\n",
    "    y'(t) = f(y(t)), \\; t \\in I \\subseteq \\mathbb{R}.\n",
    "$$\n",
    "\n",
    "Many equations that are used to model population dynamics are often autonomous, so they are of practical importance. \n",
    "\n",
    "The following proposition summarize some key properties of solutions to autonomous equations.\n",
    "\n",
    "> **Proposition**  \n",
    "> Suppose $y: I \\to \\mathbb{R}$ is a solution to an autonomous equation $y' = f(y)$. Then the following hold.\n",
    "> \n",
    "> 1. $y'$ is constant along each horizontal line. \n",
    "> 2. $y$ is either a constant function, a strictly increasing function, or a strictly decreasing function. \n",
    "> 3. If $I = \\mathbb{R}$ and $y$ is bounded above or below by some constant solution $\\tilde{y} = c$, then one of the limits $\\lim\\limits_{t \\to +\\infty} y(t), \\lim\\limits_{t \\to - \\infty} y(t)$ will be equal to $c$.\n",
    "\n",
    "  Utilizing the observations above, we can effectively characterize the solutions to autonomous ODEs by studying the zeros of the function $f: \\mathbb{R} \\to \\mathbb{R}$, which correspond to the constant solutions, and the sign of the function $f$ between its zeros, which correspond to increasing/decreasing solutions converging to the constant solutions. This leads us to the idea of *one-dimensional phase portraits*. \n",
    "\n"
   ]
  },
  {
   "cell_type": "markdown",
   "metadata": {},
   "source": [
    "## One-dimensional phase portraits and stability analysis\n",
    "\n",
    "First, we define the notion of stability types for critical points of autonomous equations.\n",
    "\n",
    "> **Definition (Stability types)**  \n",
    "> Let $y$ be a solution to the initial value problem \n",
    "> $$\n",
    "> \\begin{cases}\n",
    ">     y'(t) = f(y(t)), \\; t \\in I \\\\\n",
    ">     y(t_0) = y_0, \n",
    "> \\end{cases}\n",
    "> $$\n",
    "> Suppose $r$ is a zero of $f$ and $y_0$ is sufficiently close to $r$. \n",
    "> \n",
    "> * If $y$ converges towards $y = r$ for both $y_0 > r$ and $y_0 < r$, then we say that the critical point $r$ is *asymptotically stable*. \n",
    "> * If solutions diverge away from $y = r$ for both $y_0 > r$ and $y_0 < r$, then we say that the critical point $r$ is *unstable*. \n",
    "> * If solutions converge to $y = r$ from one side (either $y_0 > r$ or $y_0 < r$) and diverge away from it from the other, then we say that the critical point $r$ is *semi-stable*.\n",
    "\n",
    "We will illustrate how to utilize this terminology in the following example.\n",
    "> **Example:**  \n",
    "> Consider the autonomous equation  \n",
    "> $$  \n",
    "> y'(t) = (y(t))^2 - 3y(t), \\; t \\in \\mathbb{R}.  \n",
    "> $$  \n",
    "> The critical points of $f: \\mathbb{R} \\to \\mathbb{R}$ defined via $f(y) = y^2 - 3y$ are $y = 0, y = 3$. Furthermore, we have $f > 0$ on $(-\\infty, 0) \\cup (3, +\\infty)$ and $f < 0$ on $(0, 3)$. This leads to the following **one-dimensional phase portrait**.  \n",
    ">   \n",
    "> <p align=\"center\">  \n",
    "> <img src=\"diagrams/06-sketch1.PNG\" alt=\"Phase Portrait\" width=\"400\"/>  \n",
    "> </p>  \n",
    ">   \n",
    "> Here we say that the critical point $y = 0$ is unstable and the critical point $y = 3$ is asymptotically stable. We can also plot the one-dimensional phase portrait against sample solution curves to see why this terminology makes sense.  \n",
    ">   \n",
    "> <p align=\"center\">  \n",
    "> <img src=\"diagrams/06-sketch2.PNG\" alt=\"Solution Curves\" width=\"600\"/>  \n",
    "> </p>  \n",
    "\n",
    "A few more things to note:\n",
    "* By the uniqueness of solutions to the initial value problem, different solutions cannot intersect.\n",
    "* The roots of $f$ correspond to the constant solutions of the autonomous equation. \n",
    "* The sign of $f$ between the roots determines the direction of the solution curves."
   ]
  }
 ],
 "metadata": {
  "kernelspec": {
   "display_name": "base",
   "language": "python",
   "name": "python3"
  },
  "language_info": {
   "codemirror_mode": {
    "name": "ipython",
    "version": 3
   },
   "file_extension": ".py",
   "mimetype": "text/x-python",
   "name": "python",
   "nbconvert_exporter": "python",
   "pygments_lexer": "ipython3",
   "version": "3.12.2"
  }
 },
 "nbformat": 4,
 "nbformat_minor": 2
}
